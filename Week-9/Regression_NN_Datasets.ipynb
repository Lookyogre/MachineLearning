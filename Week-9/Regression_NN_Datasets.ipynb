{
  "nbformat": 4,
  "nbformat_minor": 0,
  "metadata": {
    "colab": {
      "provenance": []
    },
    "kernelspec": {
      "name": "python3",
      "display_name": "Python 3"
    },
    "language_info": {
      "name": "python"
    }
  },
  "cells": [
    {
      "cell_type": "markdown",
      "source": [
        "April Hamonangan Marbun - 1103202039"
      ],
      "metadata": {
        "id": "DYo0Qkji_FyR"
      }
    },
    {
      "cell_type": "code",
      "source": [
        "# Mengimpor modul drive dari library google.colab untuk mengakses Google Drive\n",
        "from google.colab import drive\n",
        "\n",
        "# Menghubungkan Google Drive dengan mengaitkan folder di Drive ke sesi Colab\n",
        "# '/content/drive' adalah path di Colab yang akan dihubungkan ke root folder Google Drive\n",
        "drive.mount('/content/drive')"
      ],
      "metadata": {
        "colab": {
          "base_uri": "https://localhost:8080/"
        },
        "id": "Qn2qLAtFxuPJ",
        "outputId": "07a88524-2454-4209-ebce-492d22d14d26"
      },
      "execution_count": 18,
      "outputs": [
        {
          "output_type": "stream",
          "name": "stdout",
          "text": [
            "Drive already mounted at /content/drive; to attempt to forcibly remount, call drive.mount(\"/content/drive\", force_remount=True).\n"
          ]
        }
      ]
    },
    {
      "cell_type": "code",
      "source": [
        "#menghubungkan ke file directory\n",
        "file_path = '/content/Walmart_Store_sales.csv'"
      ],
      "metadata": {
        "id": "LhRQoAp3yE92"
      },
      "execution_count": 19,
      "outputs": []
    },
    {
      "cell_type": "code",
      "source": [
        "# Mengimport library numpy untuk manipulasi data numerik\n",
        "import numpy as np\n",
        "\n",
        "# Mengimport library pandas untuk manipulasi dan analisis data tabular\n",
        "import pandas as pd\n",
        "\n",
        "# Mengimport LabelEncoder dari library sklearn.preprocessing untuk mengubah label kategorikal menjadi numerik\n",
        "from sklearn.preprocessing import LabelEncoder\n",
        "\n",
        "# Mengimport train_test_split dari library sklearn.model_selection untuk membagi dataset menjadi data latih dan data uji\n",
        "from sklearn.model_selection import train_test_split\n",
        "\n",
        "# Mengimport r2_score dari library sklearn.metrics untuk mengukur performa model menggunakan R-squared score\n",
        "from sklearn.metrics import r2_score\n",
        "\n",
        "# Mengimport Sequential (model sequential) dan Dense (layer dense) dari library Keras untuk membangun model neural network\n",
        "from keras.models import Sequential\n",
        "from keras.layers import Dense\n"
      ],
      "metadata": {
        "id": "glCRXt2dyncu"
      },
      "execution_count": 20,
      "outputs": []
    },
    {
      "cell_type": "code",
      "source": [
        "# Membaca dataset dari file dengan menggunakan pandas dan menyimpannya ke dalam variabel 'dataset'\n",
        "dataset = pd.read_csv(file_path)\n",
        "\n",
        "# Memilih kolom 1 dan 2 dari dataset sebagai fitur dan menyimpannya dalam variabel 'X'\n",
        "X = dataset.iloc[:, [1, 2]].values\n",
        "\n",
        "# Memilih kolom 5 dari dataset sebagai target (label) dan menyimpannya dalam variabel 'y'\n",
        "y = dataset.iloc[:, 5].values\n"
      ],
      "metadata": {
        "id": "c6QgwmOny1oO"
      },
      "execution_count": 21,
      "outputs": []
    },
    {
      "cell_type": "code",
      "source": [
        "# Menggunakan LabelEncoder dari sklearn.preprocessing untuk mengubah nilai pada kolom pertama (indeks 0) dari array X\n",
        "labelencoder_X = LabelEncoder()\n",
        "\n",
        "# Menggunakan metode fit_transform untuk mentransformasi nilai pada kolom pertama (indeks 0) dari array X\n",
        "# dan menyimpan hasil transformasi kembali ke kolom tersebut\n",
        "X[:, 0] = labelencoder_X.fit_transform(X[:, 0])\n"
      ],
      "metadata": {
        "id": "JEIaZN7YzNiU"
      },
      "execution_count": 22,
      "outputs": []
    },
    {
      "cell_type": "code",
      "source": [
        "#dataset akan displit dan di test\n",
        "X_train, X_test, y_train, y_test = train_test_split(X, y, test_size = 0.2, random_state = 42)"
      ],
      "metadata": {
        "id": "vmbrRmG4z0XI"
      },
      "execution_count": 23,
      "outputs": []
    },
    {
      "cell_type": "code",
      "source": [
        "#mengimpor kelas dari modul\n",
        "from sklearn.preprocessing import StandardScaler\n",
        "#membuat objek yang digunakan untuk standarisasi\n",
        "sc_X = StandardScaler()\n",
        "#melakukan standarisasi pada data latih\n",
        "X_train = sc_X.fit_transform(X_train)\n",
        "#menggunakan parameter standar yang telah dihitung dari data latih\n",
        "X_test = sc_X.transform(X_test)"
      ],
      "metadata": {
        "id": "hfP3u7XUz78u"
      },
      "execution_count": 24,
      "outputs": []
    },
    {
      "cell_type": "code",
      "source": [
        "# Membentuk model neural network menggunakan Keras Sequential API\n",
        "model = Sequential()\n",
        "\n",
        "# Menambahkan layer dense dengan 6 unit, inisialisasi bobot 'uniform', fungsi aktivasi 'relu',\n",
        "# dan input_dim sebanyak 2 neuron untuk layer input\n",
        "model.add(Dense(6, kernel_initializer='uniform', activation='relu', input_dim=2))\n",
        "\n",
        "# Menambahkan layer dense dengan 6 unit, inisialisasi bobot 'uniform', dan fungsi aktivasi 'relu'\n",
        "model.add(Dense(6, kernel_initializer='uniform', activation='relu'))\n",
        "\n",
        "# Menambahkan layer dense dengan 1 unit, inisialisasi bobot 'uniform', dan fungsi aktivasi 'linear'\n",
        "# (linear digunakan untuk masalah regresi karena output yang diinginkan adalah nilai kontinu)\n",
        "model.add(Dense(1, kernel_initializer='uniform', activation='linear'))\n"
      ],
      "metadata": {
        "id": "mouxZ6300mUp"
      },
      "execution_count": 25,
      "outputs": []
    },
    {
      "cell_type": "code",
      "source": [
        "#Model akan dicompile dengan Adam\n",
        "model.compile(optimizer = 'adam', loss = 'mean_squared_error')"
      ],
      "metadata": {
        "id": "IuwTyS5h0zx_"
      },
      "execution_count": 26,
      "outputs": []
    },
    {
      "cell_type": "code",
      "source": [
        "#memulai proses pelatihan\n",
        "model.fit(X_train, y_train, batch_size = 10, epochs = 100)"
      ],
      "metadata": {
        "colab": {
          "base_uri": "https://localhost:8080/"
        },
        "id": "JvXVz1k706Oq",
        "outputId": "4d477ca2-caeb-4b0b-fc86-22d18ccef033"
      },
      "execution_count": 27,
      "outputs": [
        {
          "output_type": "stream",
          "name": "stdout",
          "text": [
            "Epoch 1/100\n",
            "515/515 [==============================] - 2s 3ms/step - loss: 3.6622\n",
            "Epoch 2/100\n",
            "515/515 [==============================] - 1s 2ms/step - loss: 0.2216\n",
            "Epoch 3/100\n",
            "515/515 [==============================] - 1s 3ms/step - loss: 0.2141\n",
            "Epoch 4/100\n",
            "515/515 [==============================] - 1s 2ms/step - loss: 0.2114\n",
            "Epoch 5/100\n",
            "515/515 [==============================] - 1s 2ms/step - loss: 0.2106\n",
            "Epoch 6/100\n",
            "515/515 [==============================] - 1s 2ms/step - loss: 0.2106\n",
            "Epoch 7/100\n",
            "515/515 [==============================] - 1s 2ms/step - loss: 0.2108\n",
            "Epoch 8/100\n",
            "515/515 [==============================] - 1s 2ms/step - loss: 0.2104\n",
            "Epoch 9/100\n",
            "515/515 [==============================] - 1s 2ms/step - loss: 0.2101\n",
            "Epoch 10/100\n",
            "515/515 [==============================] - 1s 2ms/step - loss: 0.2110\n",
            "Epoch 11/100\n",
            "515/515 [==============================] - 1s 2ms/step - loss: 0.2113\n",
            "Epoch 12/100\n",
            "515/515 [==============================] - 1s 3ms/step - loss: 0.2106\n",
            "Epoch 13/100\n",
            "515/515 [==============================] - 1s 3ms/step - loss: 0.2113\n",
            "Epoch 14/100\n",
            "515/515 [==============================] - 1s 3ms/step - loss: 0.2119\n",
            "Epoch 15/100\n",
            "515/515 [==============================] - 1s 2ms/step - loss: 0.2109\n",
            "Epoch 16/100\n",
            "515/515 [==============================] - 1s 2ms/step - loss: 0.2111\n",
            "Epoch 17/100\n",
            "515/515 [==============================] - 1s 2ms/step - loss: 0.2105\n",
            "Epoch 18/100\n",
            "515/515 [==============================] - 1s 2ms/step - loss: 0.2105\n",
            "Epoch 19/100\n",
            "515/515 [==============================] - 1s 2ms/step - loss: 0.2114\n",
            "Epoch 20/100\n",
            "515/515 [==============================] - 1s 2ms/step - loss: 0.2112\n",
            "Epoch 21/100\n",
            "515/515 [==============================] - 1s 2ms/step - loss: 0.2101\n",
            "Epoch 22/100\n",
            "515/515 [==============================] - 1s 2ms/step - loss: 0.2111\n",
            "Epoch 23/100\n",
            "515/515 [==============================] - 1s 2ms/step - loss: 0.2108\n",
            "Epoch 24/100\n",
            "515/515 [==============================] - 1s 2ms/step - loss: 0.2109\n",
            "Epoch 25/100\n",
            "515/515 [==============================] - 1s 2ms/step - loss: 0.2103\n",
            "Epoch 26/100\n",
            "515/515 [==============================] - 1s 2ms/step - loss: 0.2106\n",
            "Epoch 27/100\n",
            "515/515 [==============================] - 1s 2ms/step - loss: 0.2108\n",
            "Epoch 28/100\n",
            "515/515 [==============================] - 1s 3ms/step - loss: 0.2103\n",
            "Epoch 29/100\n",
            "515/515 [==============================] - 1s 3ms/step - loss: 0.2100\n",
            "Epoch 30/100\n",
            "515/515 [==============================] - 1s 3ms/step - loss: 0.2111\n",
            "Epoch 31/100\n",
            "515/515 [==============================] - 1s 3ms/step - loss: 0.2110\n",
            "Epoch 32/100\n",
            "515/515 [==============================] - 1s 3ms/step - loss: 0.2117\n",
            "Epoch 33/100\n",
            "515/515 [==============================] - 1s 2ms/step - loss: 0.2107\n",
            "Epoch 34/100\n",
            "515/515 [==============================] - 1s 2ms/step - loss: 0.2112\n",
            "Epoch 35/100\n",
            "515/515 [==============================] - 1s 2ms/step - loss: 0.2106\n",
            "Epoch 36/100\n",
            "515/515 [==============================] - 1s 2ms/step - loss: 0.2107\n",
            "Epoch 37/100\n",
            "515/515 [==============================] - 1s 2ms/step - loss: 0.2112\n",
            "Epoch 38/100\n",
            "515/515 [==============================] - 1s 2ms/step - loss: 0.2103\n",
            "Epoch 39/100\n",
            "515/515 [==============================] - 1s 2ms/step - loss: 0.2107\n",
            "Epoch 40/100\n",
            "515/515 [==============================] - 1s 2ms/step - loss: 0.2107\n",
            "Epoch 41/100\n",
            "515/515 [==============================] - 1s 2ms/step - loss: 0.2108\n",
            "Epoch 42/100\n",
            "515/515 [==============================] - 1s 2ms/step - loss: 0.2104\n",
            "Epoch 43/100\n",
            "515/515 [==============================] - 1s 2ms/step - loss: 0.2103\n",
            "Epoch 44/100\n",
            "515/515 [==============================] - 1s 3ms/step - loss: 0.2105\n",
            "Epoch 45/100\n",
            "515/515 [==============================] - 1s 3ms/step - loss: 0.2103\n",
            "Epoch 46/100\n",
            "515/515 [==============================] - 1s 3ms/step - loss: 0.2109\n",
            "Epoch 47/100\n",
            "515/515 [==============================] - 1s 3ms/step - loss: 0.2106\n",
            "Epoch 48/100\n",
            "515/515 [==============================] - 1s 3ms/step - loss: 0.2105\n",
            "Epoch 49/100\n",
            "515/515 [==============================] - 1s 2ms/step - loss: 0.2111\n",
            "Epoch 50/100\n",
            "515/515 [==============================] - 1s 2ms/step - loss: 0.2105\n",
            "Epoch 51/100\n",
            "515/515 [==============================] - 1s 2ms/step - loss: 0.2103\n",
            "Epoch 52/100\n",
            "515/515 [==============================] - 1s 2ms/step - loss: 0.2112\n",
            "Epoch 53/100\n",
            "515/515 [==============================] - 1s 2ms/step - loss: 0.2108\n",
            "Epoch 54/100\n",
            "515/515 [==============================] - 1s 2ms/step - loss: 0.2104\n",
            "Epoch 55/100\n",
            "515/515 [==============================] - 1s 2ms/step - loss: 0.2109\n",
            "Epoch 56/100\n",
            "515/515 [==============================] - 1s 2ms/step - loss: 0.2105\n",
            "Epoch 57/100\n",
            "515/515 [==============================] - 1s 2ms/step - loss: 0.2101\n",
            "Epoch 58/100\n",
            "515/515 [==============================] - 1s 2ms/step - loss: 0.2110\n",
            "Epoch 59/100\n",
            "515/515 [==============================] - 1s 2ms/step - loss: 0.2103\n",
            "Epoch 60/100\n",
            "515/515 [==============================] - 1s 3ms/step - loss: 0.2104\n",
            "Epoch 61/100\n",
            "515/515 [==============================] - 1s 3ms/step - loss: 0.2106\n",
            "Epoch 62/100\n",
            "515/515 [==============================] - 1s 3ms/step - loss: 0.2108\n",
            "Epoch 63/100\n",
            "515/515 [==============================] - 1s 3ms/step - loss: 0.2107\n",
            "Epoch 64/100\n",
            "515/515 [==============================] - 1s 3ms/step - loss: 0.2104\n",
            "Epoch 65/100\n",
            "515/515 [==============================] - 1s 2ms/step - loss: 0.2107\n",
            "Epoch 66/100\n",
            "515/515 [==============================] - 1s 2ms/step - loss: 0.2113\n",
            "Epoch 67/100\n",
            "515/515 [==============================] - 1s 2ms/step - loss: 0.2105\n",
            "Epoch 68/100\n",
            "515/515 [==============================] - 1s 2ms/step - loss: 0.2107\n",
            "Epoch 69/100\n",
            "515/515 [==============================] - 1s 2ms/step - loss: 0.2107\n",
            "Epoch 70/100\n",
            "515/515 [==============================] - 1s 2ms/step - loss: 0.2102\n",
            "Epoch 71/100\n",
            "515/515 [==============================] - 1s 2ms/step - loss: 0.2101\n",
            "Epoch 72/100\n",
            "515/515 [==============================] - 1s 2ms/step - loss: 0.2110\n",
            "Epoch 73/100\n",
            "515/515 [==============================] - 1s 2ms/step - loss: 0.2108\n",
            "Epoch 74/100\n",
            "515/515 [==============================] - 1s 2ms/step - loss: 0.2106\n",
            "Epoch 75/100\n",
            "515/515 [==============================] - 1s 2ms/step - loss: 0.2098\n",
            "Epoch 76/100\n",
            "515/515 [==============================] - 1s 3ms/step - loss: 0.2100\n",
            "Epoch 77/100\n",
            "515/515 [==============================] - 1s 3ms/step - loss: 0.2103\n",
            "Epoch 78/100\n",
            "515/515 [==============================] - 1s 3ms/step - loss: 0.2103\n",
            "Epoch 79/100\n",
            "515/515 [==============================] - 1s 3ms/step - loss: 0.2110\n",
            "Epoch 80/100\n",
            "515/515 [==============================] - 1s 3ms/step - loss: 0.2105\n",
            "Epoch 81/100\n",
            "515/515 [==============================] - 1s 2ms/step - loss: 0.2106\n",
            "Epoch 82/100\n",
            "515/515 [==============================] - 1s 2ms/step - loss: 0.2104\n",
            "Epoch 83/100\n",
            "515/515 [==============================] - 1s 2ms/step - loss: 0.2102\n",
            "Epoch 84/100\n",
            "515/515 [==============================] - 1s 2ms/step - loss: 0.2100\n",
            "Epoch 85/100\n",
            "515/515 [==============================] - 1s 2ms/step - loss: 0.2103\n",
            "Epoch 86/100\n",
            "515/515 [==============================] - 1s 2ms/step - loss: 0.2104\n",
            "Epoch 87/100\n",
            "515/515 [==============================] - 1s 2ms/step - loss: 0.2105\n",
            "Epoch 88/100\n",
            "515/515 [==============================] - 1s 2ms/step - loss: 0.2099\n",
            "Epoch 89/100\n",
            "515/515 [==============================] - 1s 2ms/step - loss: 0.2107\n",
            "Epoch 90/100\n",
            "515/515 [==============================] - 1s 2ms/step - loss: 0.2099\n",
            "Epoch 91/100\n",
            "515/515 [==============================] - 1s 2ms/step - loss: 0.2106\n",
            "Epoch 92/100\n",
            "515/515 [==============================] - 1s 3ms/step - loss: 0.2105\n",
            "Epoch 93/100\n",
            "515/515 [==============================] - 1s 3ms/step - loss: 0.2105\n",
            "Epoch 94/100\n",
            "515/515 [==============================] - 2s 4ms/step - loss: 0.2105\n",
            "Epoch 95/100\n",
            "515/515 [==============================] - 2s 4ms/step - loss: 0.2105\n",
            "Epoch 96/100\n",
            "515/515 [==============================] - 1s 2ms/step - loss: 0.2099\n",
            "Epoch 97/100\n",
            "515/515 [==============================] - 1s 2ms/step - loss: 0.2108\n",
            "Epoch 98/100\n",
            "515/515 [==============================] - 1s 2ms/step - loss: 0.2107\n",
            "Epoch 99/100\n",
            "515/515 [==============================] - 1s 2ms/step - loss: 0.2101\n",
            "Epoch 100/100\n",
            "515/515 [==============================] - 1s 2ms/step - loss: 0.2102\n"
          ]
        },
        {
          "output_type": "execute_result",
          "data": {
            "text/plain": [
              "<keras.src.callbacks.History at 0x7fa4d841bbb0>"
            ]
          },
          "metadata": {},
          "execution_count": 27
        }
      ]
    },
    {
      "cell_type": "code",
      "source": [
        "#predict model dari test sebelumnya\n",
        "y_pred = model.predict(X_test)"
      ],
      "metadata": {
        "colab": {
          "base_uri": "https://localhost:8080/"
        },
        "id": "A2t4NNlm1jjJ",
        "outputId": "ef865637-6fb9-4a30-95de-534ae7e91406"
      },
      "execution_count": 28,
      "outputs": [
        {
          "output_type": "stream",
          "name": "stdout",
          "text": [
            "41/41 [==============================] - 0s 1ms/step\n"
          ]
        }
      ]
    },
    {
      "cell_type": "code",
      "source": [
        "#evaluasi model yang sudah dilakukan\n",
        "print(f\"R2 Score = {r2_score(y_test, y_pred)}\")"
      ],
      "metadata": {
        "colab": {
          "base_uri": "https://localhost:8080/"
        },
        "id": "_z-09VXn2G6J",
        "outputId": "9e6837db-87d8-4841-de3f-458927246508"
      },
      "execution_count": 29,
      "outputs": [
        {
          "output_type": "stream",
          "name": "stdout",
          "text": [
            "R2 Score = -0.012652855183918676\n"
          ]
        }
      ]
    }
  ]
}