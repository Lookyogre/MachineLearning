{
  "nbformat": 4,
  "nbformat_minor": 0,
  "metadata": {
    "colab": {
      "provenance": [],
      "gpuType": "T4"
    },
    "kernelspec": {
      "name": "python3",
      "display_name": "Python 3"
    },
    "language_info": {
      "name": "python"
    },
    "accelerator": "GPU"
  },
  "cells": [
    {
      "cell_type": "markdown",
      "source": [
        "April H Marbun - 1103202039"
      ],
      "metadata": {
        "id": "HeUHt0X3uwVw"
      }
    },
    {
      "cell_type": "code",
      "source": [
        "# Mengimpor semua library yang diperlukan untuk program\n",
        "import torch  # Library utama PyTorch\n",
        "import torch.nn as nn  # Modul Neural Network PyTorch\n",
        "import torch.optim as optim  # Modul optimisasi PyTorch\n",
        "import torchvision  # Library untuk tugas vision di PyTorch\n",
        "import torchvision.transforms as transforms  # Modul untuk melakukan transformasi pada data gambar\n",
        "from torch.utils.data import DataLoader  # Kelas DataLoader untuk memuat data secara efisien"
      ],
      "metadata": {
        "id": "EQvPtXolPb89"
      },
      "execution_count": null,
      "outputs": []
    },
    {
      "cell_type": "code",
      "source": [
        "# Mengecek ketersediaan GPU, dan jika ada, mengatur perangkat ke \"cuda\", jika tidak, ke \"cpu\"\n",
        "device = torch.device(\"cuda\" if torch.cuda.is_available() else \"cpu\")"
      ],
      "metadata": {
        "id": "gmQS-0gePm85"
      },
      "execution_count": null,
      "outputs": []
    },
    {
      "cell_type": "code",
      "source": [
        "# Mendefinisikan kelas model VGGNet untuk dataset MNIST\n",
        "class VGGNetMNIST(nn.Module):\n",
        "    def __init__(self):\n",
        "        super(VGGNetMNIST, self).__init__()\n",
        "        # Definisi layer-layers pada bagian fitur (features) dari model\n",
        "        self.features = nn.Sequential(\n",
        "            nn.Conv2d(1, 64, kernel_size=3, padding=1),\n",
        "            nn.ReLU(inplace=True),\n",
        "            nn.Conv2d(64, 64, kernel_size=3, padding=1),\n",
        "            nn.ReLU(inplace=True),\n",
        "            nn.MaxPool2d(kernel_size=2, stride=2),\n",
        "            nn.Conv2d(64, 128, kernel_size=3, padding=1),\n",
        "            nn.ReLU(inplace=True),\n",
        "            nn.Conv2d(128, 128, kernel_size=3, padding=1),\n",
        "            nn.ReLU(inplace=True),\n",
        "            nn.MaxPool2d(kernel_size=2, stride=2)\n",
        "        )\n",
        "        # Definisi layer-layers pada bagian klasifikasi (classifier) dari model\n",
        "        self.classifier = nn.Sequential(\n",
        "            nn.Linear(128 * 7 * 7, 512),\n",
        "            nn.ReLU(inplace=True),\n",
        "            nn.Dropout(),\n",
        "            nn.Linear(512, 10)  # 10 classes for MNIST\n",
        "        )\n",
        "\n",
        "    def forward(self, x):\n",
        "        x = self.features(x)  # Melakukan propagasi maju (forward pass) melalui bagian fitur\n",
        "        x = x.view(x.size(0), -1)  # Meratakan output untuk persiapan bagiannya pada klasifikasi\n",
        "        x = self.classifier(x)  # Melakukan propagasi maju melalui bagian klasifikasi\n",
        "        return x"
      ],
      "metadata": {
        "id": "bAEDGSP4PrTs"
      },
      "execution_count": null,
      "outputs": []
    },
    {
      "cell_type": "code",
      "source": [
        "#meload MNIST dari dataset\n",
        "transform = transforms.Compose([\n",
        "    transforms.ToTensor(),\n",
        "])"
      ],
      "metadata": {
        "id": "Ay3n1ALIP6Lc"
      },
      "execution_count": null,
      "outputs": []
    },
    {
      "cell_type": "code",
      "source": [
        "# Menginisialisasi transformasi data untuk dataset MNIST\n",
        "transform = transforms.Compose([\n",
        "    transforms.ToTensor(),\n",
        "])\n",
        "\n",
        "# Memuat dataset pelatihan dan pengujian MNIST\n",
        "train_dataset = torchvision.datasets.MNIST(root=\"./data\", train=True, download=True, transform=transform)\n",
        "test_dataset = torchvision.datasets.MNIST(root=\"./data\", train=False, download=True, transform=transform)\n",
        "\n",
        "# Membuat DataLoader untuk dataset pelatihan dan pengujian\n",
        "train_loader = DataLoader(dataset=train_dataset, batch_size=64, shuffle=True)\n",
        "test_loader = DataLoader(dataset=test_dataset, batch_size=64, shuffle=False)"
      ],
      "metadata": {
        "colab": {
          "base_uri": "https://localhost:8080/"
        },
        "id": "ERbc2M5wP_k9",
        "outputId": "1035f6a7-dc7f-44d7-ed40-f7b7529ec1bd"
      },
      "execution_count": null,
      "outputs": [
        {
          "output_type": "stream",
          "name": "stdout",
          "text": [
            "Downloading http://yann.lecun.com/exdb/mnist/train-images-idx3-ubyte.gz\n",
            "Downloading http://yann.lecun.com/exdb/mnist/train-images-idx3-ubyte.gz to ./data/MNIST/raw/train-images-idx3-ubyte.gz\n"
          ]
        },
        {
          "output_type": "stream",
          "name": "stderr",
          "text": [
            "100%|██████████| 9912422/9912422 [00:00<00:00, 280797439.23it/s]"
          ]
        },
        {
          "output_type": "stream",
          "name": "stdout",
          "text": [
            "Extracting ./data/MNIST/raw/train-images-idx3-ubyte.gz to ./data/MNIST/raw\n"
          ]
        },
        {
          "output_type": "stream",
          "name": "stderr",
          "text": [
            "\n"
          ]
        },
        {
          "output_type": "stream",
          "name": "stdout",
          "text": [
            "\n",
            "Downloading http://yann.lecun.com/exdb/mnist/train-labels-idx1-ubyte.gz\n",
            "Downloading http://yann.lecun.com/exdb/mnist/train-labels-idx1-ubyte.gz to ./data/MNIST/raw/train-labels-idx1-ubyte.gz\n"
          ]
        },
        {
          "output_type": "stream",
          "name": "stderr",
          "text": [
            "100%|██████████| 28881/28881 [00:00<00:00, 5977286.78it/s]\n"
          ]
        },
        {
          "output_type": "stream",
          "name": "stdout",
          "text": [
            "Extracting ./data/MNIST/raw/train-labels-idx1-ubyte.gz to ./data/MNIST/raw\n",
            "\n",
            "Downloading http://yann.lecun.com/exdb/mnist/t10k-images-idx3-ubyte.gz\n",
            "Downloading http://yann.lecun.com/exdb/mnist/t10k-images-idx3-ubyte.gz to ./data/MNIST/raw/t10k-images-idx3-ubyte.gz\n"
          ]
        },
        {
          "output_type": "stream",
          "name": "stderr",
          "text": [
            "100%|██████████| 1648877/1648877 [00:00<00:00, 194130284.82it/s]"
          ]
        },
        {
          "output_type": "stream",
          "name": "stdout",
          "text": [
            "Extracting ./data/MNIST/raw/t10k-images-idx3-ubyte.gz to ./data/MNIST/raw\n"
          ]
        },
        {
          "output_type": "stream",
          "name": "stderr",
          "text": [
            "\n"
          ]
        },
        {
          "output_type": "stream",
          "name": "stdout",
          "text": [
            "\n",
            "Downloading http://yann.lecun.com/exdb/mnist/t10k-labels-idx1-ubyte.gz\n",
            "Downloading http://yann.lecun.com/exdb/mnist/t10k-labels-idx1-ubyte.gz to ./data/MNIST/raw/t10k-labels-idx1-ubyte.gz\n"
          ]
        },
        {
          "output_type": "stream",
          "name": "stderr",
          "text": [
            "100%|██████████| 4542/4542 [00:00<00:00, 19223540.63it/s]"
          ]
        },
        {
          "output_type": "stream",
          "name": "stdout",
          "text": [
            "Extracting ./data/MNIST/raw/t10k-labels-idx1-ubyte.gz to ./data/MNIST/raw\n",
            "\n"
          ]
        },
        {
          "output_type": "stream",
          "name": "stderr",
          "text": [
            "\n"
          ]
        }
      ]
    },
    {
      "cell_type": "code",
      "source": [
        "# Inisialisasi objek model VGGNet untuk MNIST dan memindahkannya ke perangkat yang telah ditentukan (GPU atau CPU)\n",
        "model = VGGNetMNIST().to(device)\n",
        "\n",
        "# Menggunakan CrossEntropyLoss sebagai fungsi loss\n",
        "criterion = nn.CrossEntropyLoss()\n",
        "\n",
        "# Menginisialisasi optimizer Adam dengan laju pembelajaran 0.001 dan mengoptimalkan parameter dari model\n",
        "optimizer = optim.Adam(model.parameters(), lr=0.001)"
      ],
      "metadata": {
        "id": "w5_-P8J1QJuF"
      },
      "execution_count": null,
      "outputs": []
    },
    {
      "cell_type": "code",
      "source": [
        "# Loop pelatihan untuk sejumlah epoch yang telah ditentukan (5 dalam hal ini)\n",
        "num_epochs = 5\n",
        "for epoch in range(num_epochs):\n",
        "    # Mengatur model ke mode pelatihan\n",
        "    model.train()\n",
        "    running_loss = 0.0  # Inisialisasi total loss pada setiap epoch\n",
        "\n",
        "    # Loop untuk setiap batch dalam DataLoader pelatihan\n",
        "    for inputs, labels in train_loader:\n",
        "        inputs, labels = inputs.to(device), labels.to(device)  # Memindahkan data ke perangkat yang ditentukan\n",
        "        optimizer.zero_grad()  # Mengatur gradien parameter menjadi nol\n",
        "\n",
        "        outputs = model(inputs)  # Menghitung output dari model\n",
        "        loss = criterion(outputs, labels)  # Menghitung nilai loss\n",
        "        loss.backward()  # Menghitung gradien loss terhadap parameter\n",
        "        optimizer.step()  # Mengupdate parameter menggunakan optimizer\n",
        "        running_loss += loss.item()  # Menambahkan loss pada batch ke total loss\n",
        "\n",
        "    average_train_loss = running_loss / len(train_loader)  # Menghitung rata-rata loss per batch\n",
        "\n",
        "    # Menampilkan statistik untuk setiap epoch\n",
        "    print(f\"Epoch [{epoch+1}/{num_epochs}], Loss: {average_train_loss:.4f}\")"
      ],
      "metadata": {
        "colab": {
          "base_uri": "https://localhost:8080/"
        },
        "id": "LQ4GK2jbQOu9",
        "outputId": "863af64a-31cc-4af6-c89b-67f1f6bf705a"
      },
      "execution_count": null,
      "outputs": [
        {
          "output_type": "stream",
          "name": "stdout",
          "text": [
            "Epoch [1/5], Loss: 0.1372\n",
            "Epoch [2/5], Loss: 0.0483\n",
            "Epoch [3/5], Loss: 0.0335\n",
            "Epoch [4/5], Loss: 0.0279\n",
            "Epoch [5/5], Loss: 0.0214\n"
          ]
        }
      ]
    },
    {
      "cell_type": "code",
      "source": [
        "# Mengatur model ke mode evaluasi\n",
        "model.eval()\n",
        "total_correct = 0  # Inisialisasi total prediksi benar\n",
        "total_samples = 0  # Inisialisasi total sampel pada dataset pengujian\n",
        "\n",
        "# Tidak menghitung gradien saat evaluasi\n",
        "with torch.no_grad():\n",
        "    # Loop untuk setiap batch dalam DataLoader pengujian\n",
        "    for inputs, labels in test_loader:\n",
        "        inputs, labels = inputs.to(device), labels.to(device)\n",
        "\n",
        "        outputs = model(inputs)  # Menghitung output dari model\n",
        "        _, predictions = torch.max(outputs, 1)  # Mengambil indeks kelas prediksi dengan nilai tertinggi\n",
        "\n",
        "        total_correct += (predictions == labels).sum().item()  # Menambahkan jumlah prediksi benar pada setiap batch\n",
        "        total_samples += labels.size(0)  # Menambahkan jumlah sampel pada setiap batch\n",
        "\n",
        "accuracy = total_correct / total_samples  # Menghitung akurasi total\n",
        "print(f\"Test Accuracy: {accuracy}\")  # Menampilkan akurasi pengujian"
      ],
      "metadata": {
        "colab": {
          "base_uri": "https://localhost:8080/"
        },
        "id": "kuTTzJjQQUvk",
        "outputId": "8f44ca02-2dd6-4639-ac3e-51cd6ce76bc7"
      },
      "execution_count": null,
      "outputs": [
        {
          "output_type": "stream",
          "name": "stdout",
          "text": [
            "Test Accuracy: 0.9915\n"
          ]
        }
      ]
    },
    {
      "cell_type": "code",
      "source": [
        "# Import library yang diperlukan untuk visualisasi\n",
        "import matplotlib.pyplot as plt\n",
        "import numpy as np\n",
        "\n",
        "# Fungsi untuk menampilkan gambar dengan label\n",
        "def imshow(img, title):\n",
        "    npimg = img.numpy()\n",
        "    plt.imshow(np.transpose(npimg, (1, 2, 0)))\n",
        "    plt.title(title)\n",
        "    plt.show()\n",
        "\n",
        "# Mengambil satu batch data uji menggunakan iterator DataLoader\n",
        "dataiter = iter(test_loader)\n",
        "images, labels = next(dataiter)  # Menggunakan next() untuk mendapatkan batch berikutnya\n",
        "\n",
        "# Melakukan prediksi pada batch uji\n",
        "images, labels = images.to(device), labels.to(device)\n",
        "outputs = model(images)\n",
        "_, predicted = torch.max(outputs, 1)\n",
        "\n",
        "# Menampilkan gambar dengan prediksi\n",
        "correct_pred_indices = (predicted == labels).nonzero().squeeze()\n",
        "incorrect_pred_indices = (predicted != labels).nonzero().squeeze()\n",
        "\n",
        "# Menampilkan gambar yang terklasifikasi dengan benar\n",
        "print(\"Correctly Classified Images:\")\n",
        "for i in range(5):\n",
        "    index = correct_pred_indices[i]\n",
        "    imshow(images[index].cpu(), f\"True: {labels[index].item()}, Predicted: {predicted[index].item()}\")\n",
        "\n",
        "# Menampilkan gambar yang terklasifikasi dengan salah\n",
        "print(\"Incorrectly Classified Images:\")\n",
        "if incorrect_pred_indices.dim() == 0:  # Periksa apakah ini adalah skalar\n",
        "    incorrect_pred_indices = incorrect_pred_indices.unsqueeze(0)  # Konversi menjadi tensor 1D\n",
        "\n",
        "for i in range(min(3, len(incorrect_pred_indices))):\n",
        "    index = incorrect_pred_indices[i].item()  # Gunakan item() untuk mendapatkan nilai skalar\n",
        "    imshow(images[index].cpu(), f\"True: {labels[index].item()}, Predicted: {predicted[index].item()}\")"
      ],
      "metadata": {
        "colab": {
          "base_uri": "https://localhost:8080/",
          "height": 1000
        },
        "id": "keI3LjtHQg9w",
        "outputId": "18fe0d03-3f7d-4763-9ece-27e9d66f0902"
      },
      "execution_count": null,
      "outputs": [
        {
          "output_type": "stream",
          "name": "stdout",
          "text": [
            "Correctly Classified Images:\n"
          ]
        },
        {
          "output_type": "display_data",
          "data": {
            "text/plain": [
              "<Figure size 640x480 with 1 Axes>"
            ],
            "image/png": "[encoded data removed]"
          },
          "metadata": {}
        },
        {
          "output_type": "display_data",
          "data": {
            "text/plain": [
              "<Figure size 640x480 with 1 Axes>"
            ],
            "image/png": "[encoded data removed]"
          },
          "metadata": {}
        },
        {
          "output_type": "display_data",
          "data": {
            "text/plain": [
              "<Figure size 640x480 with 1 Axes>"
            ],
            "image/png": "[encoded data removed]"
          },
          "metadata": {}
        },
        {
          "output_type": "display_data",
          "data": {
            "text/plain": [
              "<Figure size 640x480 with 1 Axes>"
            ],
            "image/png": "[encoded data removed]"
          },
          "metadata": {}
        },
        {
          "output_type": "display_data",
          "data": {
            "text/plain": [
              "<Figure size 640x480 with 1 Axes>"
            ],
            "image/png": "[encoded data removed]"
          },
          "metadata": {}
        },
        {
          "output_type": "stream",
          "name": "stdout",
          "text": [
            "Incorrectly Classified Images:\n"
          ]
        }
      ]
    }
  ]
}