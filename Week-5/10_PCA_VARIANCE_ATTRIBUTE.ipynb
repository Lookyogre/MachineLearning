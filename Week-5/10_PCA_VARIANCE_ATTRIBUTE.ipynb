{
  "nbformat": 4,
  "nbformat_minor": 0,
  "metadata": {
    "colab": {
      "provenance": []
    },
    "kernelspec": {
      "name": "python3",
      "display_name": "Python 3"
    },
    "language_info": {
      "name": "python"
    }
  },
  "cells": [
    {
      "cell_type": "markdown",
      "metadata": {
        "id": "view-in-github"
      },
      "source": [
        "<a href=\"https://colab.research.google.com/github/shintafiaa/Kampus-Merdeka-ML-Pemula/blob/main/10_PCA_VARIANCE_ATTRIBUTE.ipynb\" target=\"_parent\"><img src=\"https://colab.research.google.com/assets/colab-badge.svg\" alt=\"Open In Colab\"/></a>"
      ]
    },
    {
      "cell_type": "code",
      "source": [
        "#APRIL H MARBUN-1103020239"
      ],
      "metadata": {
        "id": "5cJXnLM8Nw1p"
      },
      "execution_count": null,
      "outputs": []
    },
    {
      "cell_type": "code",
      "metadata": {
        "id": "Ot6aDmFNv93n"
      },
      "source": [
        "# Mengimpor datasets dari scikit-learn\n",
        "from sklearn import datasets\n",
        "\n",
        "# Mengimpor train_test_split dari scikit-learn untuk membagi dataset\n",
        "from sklearn.model_selection import train_test_split\n",
        "\n",
        "# Mengimpor dataset Iris\n",
        "iris = datasets.load_iris()\n",
        "\n",
        "# Mengambil atribut (fitur) dari dataset Iris\n",
        "atribut = iris.data\n",
        "\n",
        "# Mengambil label (target) dari dataset Iris\n",
        "label = iris.target\n",
        "\n",
        "# Bagi dataset menjadi data pelatihan dan data pengujian dengan perbandingan 80% data pelatihan dan 20% data pengujian\n",
        "X_train, X_test, y_train, y_test = train_test_split(atribut, label, test_size=0.2)\n"
      ],
      "execution_count": 1,
      "outputs": []
    },
    {
      "cell_type": "markdown",
      "metadata": {
        "id": "1HJmS20kwZwF"
      },
      "source": [
        "Hasil akurasi tanpa PCA"
      ]
    },
    {
      "cell_type": "code",
      "metadata": {
        "colab": {
          "base_uri": "https://localhost:8080/"
        },
        "id": "wVDWbBAiwJrl",
        "outputId": "628b1c76-2282-415c-9be8-81efa2d706cb"
      },
      "source": [
        "# Mengimpor DecisionTreeClassifier dari scikit-learn\n",
        "from sklearn import tree\n",
        "\n",
        "# Membuat objek DecisionTreeClassifier\n",
        "decision_tree = tree.DecisionTreeClassifier()\n",
        "\n",
        "# Melatih model Decision Tree pada data pelatihan\n",
        "model_pertama = decision_tree.fit(X_train, y_train)\n",
        "\n",
        "# Mengukur akurasi model dengan data pengujian\n",
        "akurasi = model_pertama.score(X_test, y_test)\n"
      ],
      "execution_count": 2,
      "outputs": [
        {
          "output_type": "execute_result",
          "data": {
            "text/plain": [
              "0.9666666666666667"
            ]
          },
          "metadata": {},
          "execution_count": 2
        }
      ]
    },
    {
      "cell_type": "code",
      "metadata": {
        "colab": {
          "base_uri": "https://localhost:8080/"
        },
        "id": "-NITYKznwZKw",
        "outputId": "1e1dc492-0b5c-468c-8299-545ada34805a"
      },
      "source": [
        "from sklearn.decomposition import PCA\n",
        "\n",
        "#membuat objek PCA dengan 4 principal component\n",
        "pca = PCA(n_components=4)\n",
        "\n",
        "#mengaplikasikan PCA pada dataset\n",
        "pca_attributes = pca.fit_transform(X_train)\n",
        "\n",
        "#melihat variance dari setiap atribut\n",
        "pca.explained_variance_ratio_"
      ],
      "execution_count": 3,
      "outputs": [
        {
          "output_type": "execute_result",
          "data": {
            "text/plain": [
              "array([0.92413525, 0.05393597, 0.01652231, 0.00540646])"
            ]
          },
          "metadata": {},
          "execution_count": 3
        }
      ]
    },
    {
      "cell_type": "markdown",
      "metadata": {
        "id": "7LzQ_YOPZElS"
      },
      "source": [
        "Ambil atribut yang memiliki variance 0.921 dan 0.05"
      ]
    },
    {
      "cell_type": "code",
      "metadata": {
        "id": "Hl-cweoGZBk4"
      },
      "source": [
        "# Mengimpor PCA dari scikit-learn\n",
        "from sklearn.decomposition import PCA\n",
        "\n",
        "# Membuat objek PCA dengan 2 principal component\n",
        "pca = PCA(n_components=2)\n",
        "\n",
        "# Mengaplikasikan PCA pada data pelatihan untuk mengurangi dimensi menjadi 2 komponen utama\n",
        "X_train_pca = pca.fit_transform(X_train)\n",
        "\n",
        "# Mengaplikasikan PCA pada data pengujian dengan transformasi yang sama\n",
        "X_test_pca = pca.transform(X_test)\n"
      ],
      "execution_count": 4,
      "outputs": []
    },
    {
      "cell_type": "code",
      "metadata": {
        "colab": {
          "base_uri": "https://localhost:8080/"
        },
        "id": "Z0_iYlb2ZYEq",
        "outputId": "e20ae460-1ea5-408f-8e1d-808a0433ae71"
      },
      "source": [
        "# Menerapkan model Decision Tree pada data pelatihan yang telah direduksi dengan PCA\n",
        "model2 = decision_tree.fit(X_train_pca, y_train)\n",
        "\n",
        "# Mengukur akurasi model setelah mengurangi dimensi data dengan PCA pada data pengujian\n",
        "akurasi_model2 = model2.score(X_test_pca, y_test)\n"
      ],
      "execution_count": 5,
      "outputs": [
        {
          "output_type": "execute_result",
          "data": {
            "text/plain": [
              "0.4"
            ]
          },
          "metadata": {},
          "execution_count": 5
        }
      ]
    },
    {
      "cell_type": "markdown",
      "metadata": {
        "id": "YuimgqhZZmnb"
      },
      "source": [
        "Keterangan: Hanya dengan dua atribut kita telah mendapatkan akurasi yang tinggi. Denan atribut yang lebih sedikit, proses yang dijalankan menjadi singkat."
      ]
    }
  ]
}