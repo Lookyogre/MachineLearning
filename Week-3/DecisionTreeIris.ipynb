{
  "nbformat": 4,
  "nbformat_minor": 0,
  "metadata": {
    "colab": {
      "provenance": []
    },
    "kernelspec": {
      "name": "python3",
      "display_name": "Python 3"
    },
    "language_info": {
      "name": "python"
    }
  },
  "cells": [
    {
      "cell_type": "markdown",
      "source": [
        "APRIL HAMONANGAN MARBUN - 1103202039"
      ],
      "metadata": {
        "id": "gpdRCJPwg8Ge"
      }
    },
    {
      "cell_type": "code",
      "execution_count": 1,
      "metadata": {
        "colab": {
          "base_uri": "https://localhost:8080/"
        },
        "id": "bRvae-w3Dwup",
        "outputId": "92871f51-e75f-4550-8499-a698b770e356"
      },
      "outputs": [
        {
          "output_type": "stream",
          "name": "stdout",
          "text": [
            "Contoh data Iris:\n",
            "Data 1: [5.1 3.5 1.4 0.2] (Target: 0)\n",
            "Data 2: [4.9 3.  1.4 0.2] (Target: 0)\n",
            "Data 3: [4.7 3.2 1.3 0.2] (Target: 0)\n",
            "Data 4: [4.6 3.1 1.5 0.2] (Target: 0)\n",
            "Data 5: [5.  3.6 1.4 0.2] (Target: 0)\n"
          ]
        }
      ],
      "source": [
        "\n",
        "from sklearn.datasets import load_iris\n",
        "\n",
        "# Memuat dataset Iris\n",
        "iris = load_iris()\n",
        "\n",
        "# Menampilkan data dalam bentuk dictionary\n",
        "iris_data = iris.data\n",
        "iris_target = iris.target\n",
        "\n",
        "# Menampilkan outputnya\n",
        "print(\"Contoh data Iris:\")\n",
        "for i in range(5):  # Menampilkan 5 baris pertama data\n",
        "    print(f\"Data {i+1}: {iris_data[i]} (Target: {iris_target[i]})\")\n"
      ]
    },
    {
      "cell_type": "code",
      "source": [
        "import pandas as pd\n",
        "from sklearn.datasets import load_iris\n",
        "\n",
        "# Memuat dataset Iris\n",
        "iris = load_iris()\n",
        "\n",
        "# Membuat DataFrame dari data Iris\n",
        "iris_df = pd.DataFrame(data=iris.data, columns=iris.feature_names)\n",
        "\n",
        "# Menambahkan kolom target ke dalam DataFrame\n",
        "iris_df['target'] = iris.target\n",
        "\n",
        "# Menampilkan beberapa baris pertama dari DataFrame\n",
        "print(iris_df.head())\n"
      ],
      "metadata": {
        "colab": {
          "base_uri": "https://localhost:8080/"
        },
        "id": "Dbpm2KtkE-6M",
        "outputId": "e320e7e0-005c-4204-be42-93ea1a5c8aad"
      },
      "execution_count": 2,
      "outputs": [
        {
          "output_type": "stream",
          "name": "stdout",
          "text": [
            "   sepal length (cm)  sepal width (cm)  petal length (cm)  petal width (cm)  \\\n",
            "0                5.1               3.5                1.4               0.2   \n",
            "1                4.9               3.0                1.4               0.2   \n",
            "2                4.7               3.2                1.3               0.2   \n",
            "3                4.6               3.1                1.5               0.2   \n",
            "4                5.0               3.6                1.4               0.2   \n",
            "\n",
            "   target  \n",
            "0       0  \n",
            "1       0  \n",
            "2       0  \n",
            "3       0  \n",
            "4       0  \n"
          ]
        }
      ]
    },
    {
      "cell_type": "code",
      "source": [
        "# Menampilkan nilai unique pada kolom target\n",
        "unique_targets = iris_df['target'].unique()\n",
        "print(\"Nilai unique pada kolom target:\")\n",
        "for target in unique_targets:\n",
        "    print(target)"
      ],
      "metadata": {
        "colab": {
          "base_uri": "https://localhost:8080/"
        },
        "id": "roFxmI35F1iq",
        "outputId": "811d3e47-be51-4a52-9c45-52e36586b837"
      },
      "execution_count": 3,
      "outputs": [
        {
          "output_type": "stream",
          "name": "stdout",
          "text": [
            "Nilai unique pada kolom target:\n",
            "0\n",
            "1\n",
            "2\n"
          ]
        }
      ]
    },
    {
      "cell_type": "code",
      "source": [
        "# Menampilkan nilai unique pada kolom target dan nama kolom\n",
        "unique_targets = iris_df['target'].unique()\n",
        "column_name = 'target'\n",
        "print(f\"Nilai unique pada kolom {column_name}:\")\n",
        "for target in unique_targets:\n",
        "    print(target)\n"
      ],
      "metadata": {
        "colab": {
          "base_uri": "https://localhost:8080/"
        },
        "id": "l4lPSb4cGBjK",
        "outputId": "9740d441-2a01-46f5-f95e-9e72c5216d34"
      },
      "execution_count": 4,
      "outputs": [
        {
          "output_type": "stream",
          "name": "stdout",
          "text": [
            "Nilai unique pada kolom target:\n",
            "0\n",
            "1\n",
            "2\n"
          ]
        }
      ]
    },
    {
      "cell_type": "code",
      "source": [
        "# Nama kolom atribut\n",
        "atribut_columns = ['sepal length (cm)', 'sepal width (cm)', 'petal length (cm)', 'petal width (cm)']\n",
        "\n",
        "# Nama kolom target\n",
        "target_column = 'target'\n",
        "\n",
        "# Mendefinisikan DataFrame atribut dan target\n",
        "atribut_df = iris_df[atribut_columns]\n",
        "target_df = iris_df[target_column]\n",
        "\n",
        "# Menampilkan beberapa baris pertama dari DataFrame atribut dan target\n",
        "print(\"DataFrame atribut:\")\n",
        "print(atribut_df.head())\n",
        "\n",
        "print(\"\\nDataFrame target:\")\n",
        "print(target_df.head())\n"
      ],
      "metadata": {
        "colab": {
          "base_uri": "https://localhost:8080/"
        },
        "id": "JmeXqRcHGrMg",
        "outputId": "17f267bf-ab8b-4bce-f4d8-16fdf65735e5"
      },
      "execution_count": 5,
      "outputs": [
        {
          "output_type": "stream",
          "name": "stdout",
          "text": [
            "DataFrame atribut:\n",
            "   sepal length (cm)  sepal width (cm)  petal length (cm)  petal width (cm)\n",
            "0                5.1               3.5                1.4               0.2\n",
            "1                4.9               3.0                1.4               0.2\n",
            "2                4.7               3.2                1.3               0.2\n",
            "3                4.6               3.1                1.5               0.2\n",
            "4                5.0               3.6                1.4               0.2\n",
            "\n",
            "DataFrame target:\n",
            "0    0\n",
            "1    0\n",
            "2    0\n",
            "3    0\n",
            "4    0\n",
            "Name: target, dtype: int64\n"
          ]
        }
      ]
    },
    {
      "cell_type": "code",
      "source": [
        "# Mengimpor library yang diperlukan\n",
        "from sklearn.tree import DecisionTreeClassifier\n",
        "from sklearn.model_selection import train_test_split\n",
        "from sklearn.metrics import accuracy_score\n",
        "\n",
        "# Memisahkan kolom atribut dan kolom target\n",
        "atribut_columns = ['sepal length (cm)', 'sepal width (cm)', 'petal length (cm)', 'petal width (cm)']\n",
        "target_column = 'target'\n",
        "\n",
        "X = iris_df[atribut_columns]\n",
        "y = iris_df[target_column]\n",
        "\n",
        "# Membagi data menjadi data latih dan data uji\n",
        "X_train, X_test, y_train, y_test = train_test_split(X, y, test_size=0.2, random_state=42)\n",
        "\n",
        "# Membuat model Decision Tree\n",
        "model = DecisionTreeClassifier(random_state=42)\n",
        "\n",
        "# Melatih model menggunakan data latih\n",
        "model.fit(X_train, y_train)\n",
        "\n",
        "# Memprediksi target menggunakan data uji\n",
        "y_pred = model.predict(X_test)\n",
        "\n",
        "# Mengukur akurasi model\n",
        "accuracy = accuracy_score(y_test, y_pred)\n",
        "print(f\"Akurasi model Decision Tree: {accuracy * 100:.2f}%\")\n"
      ],
      "metadata": {
        "colab": {
          "base_uri": "https://localhost:8080/"
        },
        "id": "vdIUPwHZHd44",
        "outputId": "6628974c-6d9e-4450-ed27-db5cc0eea721"
      },
      "execution_count": 6,
      "outputs": [
        {
          "output_type": "stream",
          "name": "stdout",
          "text": [
            "Akurasi model Decision Tree: 100.00%\n"
          ]
        }
      ]
    },
    {
      "cell_type": "code",
      "source": [
        "iris_df.info()"
      ],
      "metadata": {
        "colab": {
          "base_uri": "https://localhost:8080/"
        },
        "id": "YEHfIUoBFPKn",
        "outputId": "89489ec2-0300-4836-d5bb-c6810f30838c"
      },
      "execution_count": 7,
      "outputs": [
        {
          "output_type": "stream",
          "name": "stdout",
          "text": [
            "<class 'pandas.core.frame.DataFrame'>\n",
            "RangeIndex: 150 entries, 0 to 149\n",
            "Data columns (total 5 columns):\n",
            " #   Column             Non-Null Count  Dtype  \n",
            "---  ------             --------------  -----  \n",
            " 0   sepal length (cm)  150 non-null    float64\n",
            " 1   sepal width (cm)   150 non-null    float64\n",
            " 2   petal length (cm)  150 non-null    float64\n",
            " 3   petal width (cm)   150 non-null    float64\n",
            " 4   target             150 non-null    int64  \n",
            "dtypes: float64(4), int64(1)\n",
            "memory usage: 6.0 KB\n"
          ]
        }
      ]
    },
    {
      "cell_type": "code",
      "source": [
        "!pip install graphviz\n",
        "from sklearn.tree import export_graphviz\n",
        "import graphviz\n",
        "\n",
        "# Membuat objek Decision Tree\n",
        "tree_dot = export_graphviz(model, out_file=None,\n",
        "                           feature_names=atribut_columns,\n",
        "                           class_names=[str(i) for i in range(3)],  # Nama kelas target\n",
        "                           filled=True, rounded=True, special_characters=True)\n",
        "\n",
        "# Menggunakan graphviz untuk membuat grafik dari objek Decision Tree\n",
        "graph = graphviz.Source(tree_dot)\n",
        "\n",
        "# Menyimpan grafik dalam format PDF\n",
        "graph.render(\"decision_tree_iris\")\n"
      ],
      "metadata": {
        "colab": {
          "base_uri": "https://localhost:8080/",
          "height": 53
        },
        "id": "0sQb4kaaJfz5",
        "outputId": "ca0dde25-b3ab-4ca1-df7c-f514fe08782c"
      },
      "execution_count": 8,
      "outputs": [
        {
          "output_type": "stream",
          "name": "stdout",
          "text": [
            "Requirement already satisfied: graphviz in /usr/local/lib/python3.10/dist-packages (0.20.1)\n"
          ]
        },
        {
          "output_type": "execute_result",
          "data": {
            "text/plain": [
              "'decision_tree_iris.pdf'"
            ],
            "application/vnd.google.colaboratory.intrinsic+json": {
              "type": "string"
            }
          },
          "metadata": {},
          "execution_count": 8
        }
      ]
    },
    {
      "cell_type": "code",
      "source": [
        "import pandas as pd\n",
        "from sklearn.datasets import load_iris\n",
        "from sklearn.model_selection import train_test_split\n",
        "\n",
        "# Memuat dataset Iris\n",
        "iris = load_iris()\n",
        "iris_df = pd.DataFrame(data=iris.data, columns=iris.feature_names)\n",
        "iris_df['target'] = iris.target\n",
        "\n",
        "# Pembagian data dengan random_state\n",
        "X_train_with_rs, X_test_with_rs, y_train_with_rs, y_test_with_rs = train_test_split(\n",
        "    iris_df[iris.feature_names], iris_df['target'], test_size=0.2, random_state=42)\n",
        "\n",
        "# Pembagian data tanpa random_state\n",
        "X_train_no_rs, X_test_no_rs, y_train_no_rs, y_test_no_rs = train_test_split(\n",
        "    iris_df[iris.feature_names], iris_df['target'], test_size=0.2)\n",
        "\n",
        "# Menampilkan tabelnya menggunakan kolom yang diminta\n",
        "print(\"Pembagian data dengan random_state:\")\n",
        "with_rs_df = pd.DataFrame({'sepal length (cm)': X_test_with_rs['sepal length (cm)'],\n",
        "                            'sepal width (cm)': X_test_with_rs['sepal width (cm)'],\n",
        "                            'petal length (cm)': X_test_with_rs['petal length (cm)'],\n",
        "                            'petal width (cm)': X_test_with_rs['petal width (cm)'],\n",
        "                            'target': y_test_with_rs})\n",
        "print(with_rs_df.head())\n",
        "\n",
        "print(\"\\nPembagian data tanpa random_state:\")\n",
        "no_rs_df = pd.DataFrame({'sepal length (cm)': X_test_no_rs['sepal length (cm)'],\n",
        "                        'sepal width (cm)': X_test_no_rs['sepal width (cm)'],\n",
        "                        'petal length (cm)': X_test_no_rs['petal length (cm)'],\n",
        "                        'petal width (cm)': X_test_no_rs['petal width (cm)'],\n",
        "                        'target': y_test_no_rs})\n",
        "print(no_rs_df.head())\n"
      ],
      "metadata": {
        "id": "IY2IRGwQKOS5",
        "outputId": "cda7b986-5a44-4376-8192-5c817fa5b690",
        "colab": {
          "base_uri": "https://localhost:8080/"
        }
      },
      "execution_count": 9,
      "outputs": [
        {
          "output_type": "stream",
          "name": "stdout",
          "text": [
            "Pembagian data dengan random_state:\n",
            "     sepal length (cm)  sepal width (cm)  petal length (cm)  petal width (cm)  \\\n",
            "73                 6.1               2.8                4.7               1.2   \n",
            "18                 5.7               3.8                1.7               0.3   \n",
            "118                7.7               2.6                6.9               2.3   \n",
            "78                 6.0               2.9                4.5               1.5   \n",
            "76                 6.8               2.8                4.8               1.4   \n",
            "\n",
            "     target  \n",
            "73        1  \n",
            "18        0  \n",
            "118       2  \n",
            "78        1  \n",
            "76        1  \n",
            "\n",
            "Pembagian data tanpa random_state:\n",
            "    sepal length (cm)  sepal width (cm)  petal length (cm)  petal width (cm)  \\\n",
            "24                4.8               3.4                1.9               0.2   \n",
            "56                6.3               3.3                4.7               1.6   \n",
            "48                5.3               3.7                1.5               0.2   \n",
            "77                6.7               3.0                5.0               1.7   \n",
            "84                5.4               3.0                4.5               1.5   \n",
            "\n",
            "    target  \n",
            "24       0  \n",
            "56       1  \n",
            "48       0  \n",
            "77       1  \n",
            "84       1  \n"
          ]
        }
      ]
    }
  ]
}